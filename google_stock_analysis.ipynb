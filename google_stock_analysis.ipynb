{
 "cells": [
  {
   "cell_type": "code",
   "execution_count": 35,
   "metadata": {},
   "outputs": [],
   "source": [
    "from pandas_datareader import data\n",
    "from datetime import datetime\n",
    "from bokeh.plotting import figure, show, output_file"
   ]
  },
  {
   "cell_type": "code",
   "execution_count": 43,
   "metadata": {},
   "outputs": [],
   "source": [
    "starttime = datetime(2019,1,1)\n",
    "endtime = datetime(2019,3,10)"
   ]
  },
  {
   "cell_type": "code",
   "execution_count": 44,
   "metadata": {},
   "outputs": [
    {
     "data": {
      "text/html": [
       "<div>\n",
       "<style scoped>\n",
       "    .dataframe tbody tr th:only-of-type {\n",
       "        vertical-align: middle;\n",
       "    }\n",
       "\n",
       "    .dataframe tbody tr th {\n",
       "        vertical-align: top;\n",
       "    }\n",
       "\n",
       "    .dataframe thead th {\n",
       "        text-align: right;\n",
       "    }\n",
       "</style>\n",
       "<table border=\"1\" class=\"dataframe\">\n",
       "  <thead>\n",
       "    <tr style=\"text-align: right;\">\n",
       "      <th></th>\n",
       "      <th>High</th>\n",
       "      <th>Low</th>\n",
       "      <th>Open</th>\n",
       "      <th>Close</th>\n",
       "      <th>Volume</th>\n",
       "      <th>Adj Close</th>\n",
       "    </tr>\n",
       "    <tr>\n",
       "      <th>Date</th>\n",
       "      <th></th>\n",
       "      <th></th>\n",
       "      <th></th>\n",
       "      <th></th>\n",
       "      <th></th>\n",
       "      <th></th>\n",
       "    </tr>\n",
       "  </thead>\n",
       "  <tbody>\n",
       "    <tr>\n",
       "      <th>2018-12-31</th>\n",
       "      <td>1052.699951</td>\n",
       "      <td>1023.590027</td>\n",
       "      <td>1050.959961</td>\n",
       "      <td>1035.609985</td>\n",
       "      <td>1493300</td>\n",
       "      <td>1035.609985</td>\n",
       "    </tr>\n",
       "    <tr>\n",
       "      <th>2019-01-02</th>\n",
       "      <td>1052.319946</td>\n",
       "      <td>1015.710022</td>\n",
       "      <td>1016.570007</td>\n",
       "      <td>1045.849976</td>\n",
       "      <td>1532600</td>\n",
       "      <td>1045.849976</td>\n",
       "    </tr>\n",
       "    <tr>\n",
       "      <th>2019-01-03</th>\n",
       "      <td>1056.979980</td>\n",
       "      <td>1014.070007</td>\n",
       "      <td>1041.000000</td>\n",
       "      <td>1016.059998</td>\n",
       "      <td>1841100</td>\n",
       "      <td>1016.059998</td>\n",
       "    </tr>\n",
       "    <tr>\n",
       "      <th>2019-01-04</th>\n",
       "      <td>1070.839966</td>\n",
       "      <td>1027.417969</td>\n",
       "      <td>1032.589966</td>\n",
       "      <td>1070.709961</td>\n",
       "      <td>2093900</td>\n",
       "      <td>1070.709961</td>\n",
       "    </tr>\n",
       "    <tr>\n",
       "      <th>2019-01-07</th>\n",
       "      <td>1074.000000</td>\n",
       "      <td>1054.760010</td>\n",
       "      <td>1071.500000</td>\n",
       "      <td>1068.390015</td>\n",
       "      <td>1981900</td>\n",
       "      <td>1068.390015</td>\n",
       "    </tr>\n",
       "  </tbody>\n",
       "</table>\n",
       "</div>"
      ],
      "text/plain": [
       "                   High          Low         Open        Close   Volume  \\\n",
       "Date                                                                      \n",
       "2018-12-31  1052.699951  1023.590027  1050.959961  1035.609985  1493300   \n",
       "2019-01-02  1052.319946  1015.710022  1016.570007  1045.849976  1532600   \n",
       "2019-01-03  1056.979980  1014.070007  1041.000000  1016.059998  1841100   \n",
       "2019-01-04  1070.839966  1027.417969  1032.589966  1070.709961  2093900   \n",
       "2019-01-07  1074.000000  1054.760010  1071.500000  1068.390015  1981900   \n",
       "\n",
       "              Adj Close  \n",
       "Date                     \n",
       "2018-12-31  1035.609985  \n",
       "2019-01-02  1045.849976  \n",
       "2019-01-03  1016.059998  \n",
       "2019-01-04  1070.709961  \n",
       "2019-01-07  1068.390015  "
      ]
     },
     "execution_count": 44,
     "metadata": {},
     "output_type": "execute_result"
    }
   ],
   "source": [
    "df = data.DataReader(name=\"GOOG\",data_source=\"yahoo\",start=starttime,end=endtime)\n",
    "df.head()"
   ]
  },
  {
   "cell_type": "code",
   "execution_count": 45,
   "metadata": {},
   "outputs": [],
   "source": [
    "def inc_dec(c,o):\n",
    "    if c>o:\n",
    "        value=\"increase\"\n",
    "    elif c<o:\n",
    "        value = \"decrease\"\n",
    "    else: value = \"equal\"\n",
    "    return value\n",
    "\n",
    "df[\"Status\"] = [inc_dec(c,o) for c,o in zip(df.Close,df.Open)]"
   ]
  },
  {
   "cell_type": "code",
   "execution_count": 46,
   "metadata": {},
   "outputs": [],
   "source": [
    "df[\"Middle\"] = (df.Close + df.Open)/2\n",
    "df[\"Height\"] = abs(df.Close - df.Open)"
   ]
  },
  {
   "cell_type": "code",
   "execution_count": 50,
   "metadata": {},
   "outputs": [],
   "source": [
    "p = figure(x_axis_type=\"datetime\", width=600, height=300,sizing_mode=\"scale_height\")\n",
    "p.title.text=\"candlestick chart\"\n",
    "\n",
    "p.grid.grid_line_alpha=0.3\n",
    "\n",
    "hours_ms = 12*60*60*1000\n",
    "\n",
    "p.segment(df.index, df.High, df.index, df.Low)\n",
    "\n",
    "p.rect(df.index[df.Status==\"increase\"], df.Middle[df.Status==\"increase\"],\n",
    "      hours_ms, df.Height[df.Status==\"increase\"],fill_color=\"green\", line_color=\"black\")\n",
    "\n",
    "p.rect(df.index[df.Status==\"decrease\"], df.Middle[df.Status==\"decrease\"],\n",
    "      hours_ms, df.Height[df.Status==\"decrease\"],fill_color=\"red\", line_color=\"black\")\n",
    "p.line(df.index,df[\"Close\"],color = \"green\")\n",
    "\n",
    "output_file(\"candlestick.html\")\n",
    "show(p)"
   ]
  },
  {
   "cell_type": "code",
   "execution_count": null,
   "metadata": {},
   "outputs": [],
   "source": []
  }
 ],
 "metadata": {
  "kernelspec": {
   "display_name": "Python 3",
   "language": "python",
   "name": "python3"
  },
  "language_info": {
   "codemirror_mode": {
    "name": "ipython",
    "version": 3
   },
   "file_extension": ".py",
   "mimetype": "text/x-python",
   "name": "python",
   "nbconvert_exporter": "python",
   "pygments_lexer": "ipython3",
   "version": "3.7.0"
  }
 },
 "nbformat": 4,
 "nbformat_minor": 2
}
